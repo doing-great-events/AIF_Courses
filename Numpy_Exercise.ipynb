{
 "cells": [
  {
   "cell_type": "markdown",
   "metadata": {
    "colab_type": "text",
    "id": "ggFUZOmm3V8H"
   },
   "source": [
    "## $\\Large{Numpy\\; 練習題}$"
   ]
  },
  {
   "cell_type": "code",
   "execution_count": 1,
   "metadata": {
    "colab": {},
    "colab_type": "code",
    "id": "6KNEKLNu3V8H"
   },
   "outputs": [],
   "source": [
    "import numpy as np"
   ]
  },
  {
   "cell_type": "markdown",
   "metadata": {},
   "source": [
    "---\n",
    "# 1-Dimension Array"
   ]
  },
  {
   "cell_type": "markdown",
   "metadata": {
    "colab_type": "raw",
    "id": "8mTIn94S3V8L"
   },
   "source": [
    "## Exercise 1\n",
    "使用np.arrange 函數創建一個數值從10到49的一維陣列"
   ]
  },
  {
   "cell_type": "code",
   "execution_count": 2,
   "metadata": {
    "colab": {},
    "colab_type": "code",
    "id": "nB7ScIE23V8M",
    "outputId": "4397b0c3-1e78-49da-d021-b8c08d3e8a49"
   },
   "outputs": [
    {
     "data": {
      "text/plain": [
       "array([10, 11, 12, 13, 14, 15, 16, 17, 18, 19, 20, 21, 22, 23, 24, 25, 26,\n",
       "       27, 28, 29, 30, 31, 32, 33, 34, 35, 36, 37, 38, 39, 40, 41, 42, 43,\n",
       "       44, 45, 46, 47, 48])"
      ]
     },
     "execution_count": 2,
     "metadata": {},
     "output_type": "execute_result"
    }
   ],
   "source": [
    "np.arange(10,49,1)"
   ]
  },
  {
   "cell_type": "markdown",
   "metadata": {},
   "source": [
    "## Exercise 2\n",
    "請建立一個陣列，裡頭包含0~101中所有完全平方數(ex. 1, 4, 9...)"
   ]
  },
  {
   "cell_type": "code",
   "execution_count": 3,
   "metadata": {},
   "outputs": [
    {
     "name": "stdout",
     "output_type": "stream",
     "text": [
      "[0, 1, 4, 9, 16, 25, 36, 49, 64, 81, 100]\n"
     ]
    }
   ],
   "source": [
    "index = 101\n",
    "a = []\n",
    "for i in range (index) :\n",
    "    if np.sqrt(i) % 1 == 0 :\n",
    "        a.append(i)\n",
    "\n",
    "print(a)"
   ]
  },
  {
   "cell_type": "markdown",
   "metadata": {
    "colab_type": "raw",
    "id": "2RnwXmlz3V8Q"
   },
   "source": [
    "## Exercise 3\n",
    "反轉陣列x使得陣列內的元素從尾排到頭"
   ]
  },
  {
   "cell_type": "code",
   "execution_count": 4,
   "metadata": {
    "colab": {},
    "colab_type": "code",
    "id": "9468qVTX3V8R",
    "outputId": "31c3941c-4220-4c29-9821-935f29a9c19c"
   },
   "outputs": [],
   "source": [
    "x = np.array([2, 0, 3, 1, 4, 7])"
   ]
  },
  {
   "cell_type": "code",
   "execution_count": 5,
   "metadata": {},
   "outputs": [
    {
     "data": {
      "text/plain": [
       "array([7, 4, 1, 3, 0, 2])"
      ]
     },
     "execution_count": 5,
     "metadata": {},
     "output_type": "execute_result"
    }
   ],
   "source": [
    "x[::-1]  # 從頭到尾 間隔-1取值"
   ]
  },
  {
   "cell_type": "markdown",
   "metadata": {
    "colab_type": "raw",
    "id": "1Av_uBWF3V8m"
   },
   "source": [
    "## Exercise 4\n",
    "將x陣列內數值介於3到8(包含3和8)的元素取負號"
   ]
  },
  {
   "cell_type": "code",
   "execution_count": 6,
   "metadata": {},
   "outputs": [],
   "source": [
    "X = np.array([6, 2, 8, 3, 0, 1])"
   ]
  },
  {
   "cell_type": "code",
   "execution_count": 7,
   "metadata": {},
   "outputs": [
    {
     "data": {
      "text/plain": [
       "array([-6,  2, -8, -3,  0,  1])"
      ]
     },
     "execution_count": 7,
     "metadata": {},
     "output_type": "execute_result"
    }
   ],
   "source": [
    "mask = (3 <= X) & (X <= 8)\n",
    "X[mask] = -X[mask]\n",
    "X"
   ]
  },
  {
   "cell_type": "markdown",
   "metadata": {
    "colab_type": "raw",
    "id": "gJP6Dr423V80"
   },
   "source": [
    "## Exercise 5\n",
    "創建一個長度為10的隨機數字陣列，並且將最大值取代為0"
   ]
  },
  {
   "cell_type": "code",
   "execution_count": 8,
   "metadata": {},
   "outputs": [
    {
     "name": "stdout",
     "output_type": "stream",
     "text": [
      "[-0.56655545  1.61302771 -1.12666116 -0.59666947 -0.22641519 -0.56792773\n",
      "  0.76640307  0.55373811 -1.58085856 -1.12653662]\n",
      "[-0.56655545  0.         -1.12666116 -0.59666947 -0.22641519 -0.56792773\n",
      "  0.76640307  0.55373811 -1.58085856 -1.12653662]\n"
     ]
    }
   ],
   "source": [
    "test = np.random.randn(10)\n",
    "print(test)\n",
    "test[np.argmax(test)]=0\n",
    "print(test)"
   ]
  },
  {
   "cell_type": "markdown",
   "metadata": {
    "colab_type": "raw",
    "id": "oXdWRI5a3V8t"
   },
   "source": [
    "## Exercise 6\n",
    "從陣列x中取出符合以下條件的子集\n",
    "\n",
    "(1) 不能被 3 整除\n",
    "\n",
    "(2) 可以被 3 整除\n",
    "\n",
    "(3) 可以被 3 或 5 整除"
   ]
  },
  {
   "cell_type": "code",
   "execution_count": 9,
   "metadata": {},
   "outputs": [],
   "source": [
    "x = np.array([3, 4, 6, 10, 24, 89, 45, 43, 46, 99, 100])"
   ]
  },
  {
   "cell_type": "code",
   "execution_count": 10,
   "metadata": {},
   "outputs": [
    {
     "data": {
      "text/plain": [
       "array([  4,  10,  89,  43,  46, 100])"
      ]
     },
     "metadata": {},
     "output_type": "display_data"
    },
    {
     "data": {
      "text/plain": [
       "array([ 3,  6, 24, 45, 99])"
      ]
     },
     "metadata": {},
     "output_type": "display_data"
    },
    {
     "data": {
      "text/plain": [
       "array([ 3,  6, 24, 45, 99])"
      ]
     },
     "metadata": {},
     "output_type": "display_data"
    }
   ],
   "source": [
    "mask1 = (x % 3) != 0\n",
    "mask2 = (x % 3) == 0\n",
    "mask3 = ((x % 3) == 0), ((x % 5) == 0).any()\n",
    "\n",
    "display(x[mask1])\n",
    "display(x[mask2])\n",
    "display(x[mask3])"
   ]
  },
  {
   "cell_type": "markdown",
   "metadata": {},
   "source": [
    "## Exercise 7\n",
    "使用np.arange建立從2019年1月到12月共12個月的陣列資料\n",
    "\n",
    "範例結果如下\n",
    "<img src='./Slides_image/ex7_pic.PNG'/>"
   ]
  },
  {
   "cell_type": "code",
   "execution_count": 11,
   "metadata": {},
   "outputs": [
    {
     "data": {
      "text/plain": [
       "array(['2019-01', '2019-02', '2019-03', '2019-04', '2019-05', '2019-06',\n",
       "       '2019-07', '2019-08', '2019-09', '2019-10', '2019-11'],\n",
       "      dtype='datetime64[M]')"
      ]
     },
     "execution_count": 11,
     "metadata": {},
     "output_type": "execute_result"
    }
   ],
   "source": [
    "np.arange('2019-01', '2019-12', dtype='datetime64[M]')"
   ]
  },
  {
   "cell_type": "code",
   "execution_count": null,
   "metadata": {},
   "outputs": [],
   "source": []
  },
  {
   "cell_type": "markdown",
   "metadata": {},
   "source": [
    "---\n",
    "# n-Dimension Array"
   ]
  },
  {
   "cell_type": "markdown",
   "metadata": {},
   "source": [
    "## Exercise 8\n",
    "請以ndim與shape兩個用法印出陣列x的維度數目與各維度的長度"
   ]
  },
  {
   "cell_type": "code",
   "execution_count": 12,
   "metadata": {},
   "outputs": [],
   "source": [
    "x = np.array([[[[[[[[[[[[[[[[[5, 4, 3, 2, 1]]]], [[[[10, 9, 8, 7, 6]]]]]]]]]]]]]]]]])"
   ]
  },
  {
   "cell_type": "code",
   "execution_count": 13,
   "metadata": {},
   "outputs": [
    {
     "name": "stdout",
     "output_type": "stream",
     "text": [
      "17\n",
      "(1, 1, 1, 1, 1, 1, 1, 1, 1, 1, 1, 1, 2, 1, 1, 1, 5)\n"
     ]
    }
   ],
   "source": [
    "print(x.ndim)\n",
    "print(x.shape)"
   ]
  },
  {
   "cell_type": "markdown",
   "metadata": {
    "colab_type": "raw",
    "id": "A5hgfKhP3V8U"
   },
   "source": [
    "## Exercise 9\n",
    "使用np.random.random 函數創建一個3x3x3的陣列"
   ]
  },
  {
   "cell_type": "code",
   "execution_count": 14,
   "metadata": {
    "colab": {},
    "colab_type": "code",
    "id": "WdVy_Z683V8V",
    "outputId": "b144837a-5a44-43d1-deb9-749a888e49a0"
   },
   "outputs": [
    {
     "data": {
      "text/plain": [
       "array([[[0.18854799, 0.06613973, 0.77536356],\n",
       "        [0.62142351, 0.97552871, 0.40682069],\n",
       "        [0.05296429, 0.60767796, 0.66709411]],\n",
       "\n",
       "       [[0.34362179, 0.71760036, 0.74622723],\n",
       "        [0.21974357, 0.01064574, 0.52245267],\n",
       "        [0.44619973, 0.31023733, 0.85494276]],\n",
       "\n",
       "       [[0.59826442, 0.56324978, 0.84896281],\n",
       "        [0.69191029, 0.59238638, 0.789795  ],\n",
       "        [0.13178751, 0.67147178, 0.01334871]]])"
      ]
     },
     "execution_count": 14,
     "metadata": {},
     "output_type": "execute_result"
    }
   ],
   "source": [
    "np.random.random((3,3,3))"
   ]
  },
  {
   "cell_type": "code",
   "execution_count": null,
   "metadata": {},
   "outputs": [],
   "source": []
  },
  {
   "cell_type": "markdown",
   "metadata": {
    "colab_type": "raw",
    "id": "2VKLW80j3V89"
   },
   "source": [
    "## Exercise 10\n",
    "創建一個5x5且數值介於0到4之間的整數陣列"
   ]
  },
  {
   "cell_type": "code",
   "execution_count": 15,
   "metadata": {},
   "outputs": [
    {
     "data": {
      "text/plain": [
       "array([[4, 0, 1, 2, 4],\n",
       "       [4, 4, 0, 4, 0],\n",
       "       [4, 4, 4, 0, 1],\n",
       "       [2, 4, 1, 1, 4],\n",
       "       [3, 1, 2, 0, 2]])"
      ]
     },
     "execution_count": 15,
     "metadata": {},
     "output_type": "execute_result"
    }
   ],
   "source": [
    "np.random.randint(0,5,(5,5))"
   ]
  },
  {
   "cell_type": "markdown",
   "metadata": {
    "colab_type": "raw",
    "id": "D4wyuegd3V8Y"
   },
   "source": [
    "## Exercise 11\n",
    "創建一個擁有隨機數值且形狀為10x10的陣列，並且使用np.min 和 np.max兩函數找出陣列中的最大值/最小值"
   ]
  },
  {
   "cell_type": "code",
   "execution_count": 16,
   "metadata": {
    "colab": {},
    "colab_type": "code",
    "id": "t2j9bQw33V8Z",
    "outputId": "cc3d3591-8eb8-4efa-c612-ed2d5beba94c"
   },
   "outputs": [
    {
     "name": "stdout",
     "output_type": "stream",
     "text": [
      "test =  [[0.6111914  0.69068615 0.28690911 0.41811557 0.32664971 0.85337343\n",
      "  0.86309325 0.93219324 0.77736246 0.79777097]\n",
      " [0.7935985  0.33198153 0.01009474 0.69673659 0.65385715 0.05251221\n",
      "  0.47865974 0.92730351 0.34718328 0.53782372]\n",
      " [0.47086932 0.30258693 0.37512221 0.30660738 0.46903972 0.88121005\n",
      "  0.90292588 0.97666101 0.34385661 0.76692425]\n",
      " [0.03470891 0.24812585 0.58767843 0.10175774 0.4004249  0.8668306\n",
      "  0.13777832 0.89934808 0.00815485 0.0335373 ]\n",
      " [0.43532531 0.01859278 0.51196614 0.20214347 0.63630049 0.3866224\n",
      "  0.97924115 0.4101818  0.20790745 0.36433495]\n",
      " [0.98506858 0.70228087 0.56403986 0.84163346 0.09123633 0.936432\n",
      "  0.23933002 0.82019026 0.52879602 0.72711887]\n",
      " [0.99773553 0.08310434 0.54027776 0.60010997 0.25216235 0.05190429\n",
      "  0.58892803 0.4405156  0.60089041 0.13014159]\n",
      " [0.5126596  0.44992157 0.11670041 0.11595861 0.52046436 0.02534382\n",
      "  0.20391102 0.10870806 0.23738202 0.40939826]\n",
      " [0.61367047 0.36901118 0.75535023 0.77130991 0.06732019 0.03068239\n",
      "  0.85024235 0.38760919 0.02733391 0.67812011]\n",
      " [0.95677492 0.28759995 0.70305607 0.04978969 0.2550337  0.12378338\n",
      "  0.06457752 0.60966298 0.97183688 0.08561789]]\n",
      "min =  0.008154852250107147\n",
      "Max =  0.9977355259989599\n"
     ]
    }
   ],
   "source": [
    "test = np.random.random((10,10))\n",
    "print(\"test = \", test)\n",
    "print(\"min = \", np.min(test))\n",
    "print(\"Max = \", np.max(test))"
   ]
  },
  {
   "cell_type": "markdown",
   "metadata": {},
   "source": [
    "## Exercise 12\n",
    "使用reshape函數將陣列x轉成最後一個維度的長度為1且第一個維度為3的3維陣列"
   ]
  },
  {
   "cell_type": "code",
   "execution_count": 17,
   "metadata": {},
   "outputs": [],
   "source": [
    "x = np.arange(9)"
   ]
  },
  {
   "cell_type": "code",
   "execution_count": 18,
   "metadata": {},
   "outputs": [
    {
     "name": "stdout",
     "output_type": "stream",
     "text": [
      "[[[0]\n",
      "  [1]\n",
      "  [2]]\n",
      "\n",
      " [[3]\n",
      "  [4]\n",
      "  [5]]\n",
      "\n",
      " [[6]\n",
      "  [7]\n",
      "  [8]]]\n",
      "(3, 3, 1)\n"
     ]
    }
   ],
   "source": [
    "y = x.reshape((3,-1,1))\n",
    "print(y)\n",
    "print(y.shape)"
   ]
  },
  {
   "cell_type": "markdown",
   "metadata": {},
   "source": [
    "## Exercise 13\n",
    "請針對x陣列中的每欄資料做累積加總\n",
    "\n",
    "註：加總後的陣列數值將為 [[2, 6, 3], [7, 15, 4]]"
   ]
  },
  {
   "cell_type": "code",
   "execution_count": 19,
   "metadata": {},
   "outputs": [],
   "source": [
    "x = np.array([2, 6, 3, 5, 9, 1]).reshape(2, -1)"
   ]
  },
  {
   "cell_type": "code",
   "execution_count": 20,
   "metadata": {},
   "outputs": [
    {
     "name": "stdout",
     "output_type": "stream",
     "text": [
      "[[2 6 3]\n",
      " [5 9 1]]\n",
      "[ 7 15  4]\n"
     ]
    }
   ],
   "source": [
    "print(x)\n",
    "y = np.sum(x, 0)\n",
    "print(y)"
   ]
  },
  {
   "cell_type": "markdown",
   "metadata": {
    "colab_type": "raw",
    "id": "ADh7G-7E3V8i"
   },
   "source": [
    "## Exercise 14\n",
    "陣列標準化: 將x陣列內所有的元素除以x陣列內元素的最大值"
   ]
  },
  {
   "cell_type": "code",
   "execution_count": 21,
   "metadata": {},
   "outputs": [],
   "source": [
    "x = np.random.randn(6).reshape(2, 3)"
   ]
  },
  {
   "cell_type": "code",
   "execution_count": 22,
   "metadata": {},
   "outputs": [
    {
     "name": "stdout",
     "output_type": "stream",
     "text": [
      "[[-1.09497135 -0.0591038   0.30382415]\n",
      " [-0.1370255  -0.43417701  1.38354742]]\n",
      "norm =  [[-0.79142307 -0.04271903  0.21959793]\n",
      " [-0.09903925 -0.31381433  1.        ]]\n"
     ]
    }
   ],
   "source": [
    "print(x)\n",
    "print(\"norm = \", x/np.max(x))"
   ]
  },
  {
   "cell_type": "markdown",
   "metadata": {},
   "source": [
    "## Exercise 15\n",
    "請計算出x陣列中相鄰數字的差異並同樣存成np.array型態\n",
    "\n",
    "註：由於x陣列有6個數字，因此相鄰數字的差異共會有5個數值，依序為 [-151, 224, -158, -88, 572]"
   ]
  },
  {
   "cell_type": "code",
   "execution_count": 23,
   "metadata": {},
   "outputs": [],
   "source": [
    "x = np.array([183, 32, 256, 98, 10, 582])"
   ]
  },
  {
   "cell_type": "code",
   "execution_count": 24,
   "metadata": {},
   "outputs": [
    {
     "data": {
      "text/plain": [
       "array([-151,  224, -158,  -88,  572])"
      ]
     },
     "execution_count": 24,
     "metadata": {},
     "output_type": "execute_result"
    }
   ],
   "source": [
    "dif = []\n",
    "for i in range(len(x)-1) :\n",
    "    dif.append(x[i+1]-x[i])\n",
    "np.array(dif)"
   ]
  },
  {
   "cell_type": "markdown",
   "metadata": {},
   "source": [
    "## Exercise 16\n",
    "請將x陣列中所有數值可被3整除的元素索引列出\n",
    "\n",
    "註：由於x為二維陣列，單一個元素的索引會有兩個數字(ex.[1, 0])"
   ]
  },
  {
   "cell_type": "code",
   "execution_count": 25,
   "metadata": {},
   "outputs": [],
   "source": [
    "x = np.arange(20).reshape(4, 5)"
   ]
  },
  {
   "cell_type": "code",
   "execution_count": 26,
   "metadata": {},
   "outputs": [
    {
     "name": "stdout",
     "output_type": "stream",
     "text": [
      "[[ 0  1  2  3  4]\n",
      " [ 5  6  7  8  9]\n",
      " [10 11 12 13 14]\n",
      " [15 16 17 18 19]]\n",
      "x[0][0] is what you want\n",
      "x[0][3] is what you want\n",
      "x[1][1] is what you want\n",
      "x[1][4] is what you want\n",
      "x[2][2] is what you want\n",
      "x[3][0] is what you want\n",
      "x[3][3] is what you want\n"
     ]
    }
   ],
   "source": [
    "print(x)\n",
    "row,col = np.where(x % 3 ==0)\n",
    "for i in range(len(row)) :\n",
    "    print(\"x[%g][%g]\" %(row[i],col[i]),\"is what you want\")"
   ]
  },
  {
   "cell_type": "markdown",
   "metadata": {
    "colab_type": "raw",
    "id": "epQjVRA73V8e"
   },
   "source": [
    "## Exercise 17\n",
    "使用np.pad 函數在陣列x外圍加一層0，使得原本3x3的陣列變為5x5"
   ]
  },
  {
   "cell_type": "code",
   "execution_count": 27,
   "metadata": {
    "colab": {},
    "colab_type": "code",
    "id": "1hp3gjzn3V8e",
    "outputId": "cb3fa850-de84-4562-d71b-91c950fbe1ca"
   },
   "outputs": [],
   "source": [
    "x = np.ones(shape=(3, 3))"
   ]
  },
  {
   "cell_type": "code",
   "execution_count": 28,
   "metadata": {},
   "outputs": [
    {
     "name": "stdout",
     "output_type": "stream",
     "text": [
      "[[1. 1. 1.]\n",
      " [1. 1. 1.]\n",
      " [1. 1. 1.]]\n",
      "(3, 3)\n",
      "[[0. 0. 0. 0. 0.]\n",
      " [0. 1. 1. 1. 0.]\n",
      " [0. 1. 1. 1. 0.]\n",
      " [0. 1. 1. 1. 0.]\n",
      " [0. 0. 0. 0. 0.]]\n",
      "(5, 5)\n"
     ]
    }
   ],
   "source": [
    "print(x)\n",
    "print(x.shape)\n",
    "print(np.pad(x,((1,1),(1,1)),'constant',constant_values = (0,0)))\n",
    "print(np.pad(x,((1,1),(1,1)),'constant',constant_values = (0,0)).shape)"
   ]
  },
  {
   "cell_type": "markdown",
   "metadata": {},
   "source": [
    "## Exercise 18\n",
    "計算x與y兩兩元素的乘積並做加總(答案應為32)\n",
    "\n",
    "註：上述的做法其實就是矩陣內積，因此有超過兩種以上的作法可以計算出此答案，大家可以試試看自己會幾種"
   ]
  },
  {
   "cell_type": "code",
   "execution_count": 29,
   "metadata": {},
   "outputs": [],
   "source": [
    "x = np.array([[1, 2, 3]])\n",
    "y = np.array([[4, 5, 6]])"
   ]
  },
  {
   "cell_type": "code",
   "execution_count": 30,
   "metadata": {},
   "outputs": [
    {
     "name": "stdout",
     "output_type": "stream",
     "text": [
      "32\n",
      "32\n"
     ]
    }
   ],
   "source": [
    "print(np.sum(np.multiply(x,y)))\n",
    "print(np.squeeze(np.dot(x,y.T)))"
   ]
  },
  {
   "cell_type": "markdown",
   "metadata": {},
   "source": [
    "## Exercise 19\n",
    "使用np.concatenate函數將陣列x與陣列y合併在一起，使其與```np.append(x, y, axis = 1)```結果相同"
   ]
  },
  {
   "cell_type": "code",
   "execution_count": 31,
   "metadata": {},
   "outputs": [
    {
     "name": "stdout",
     "output_type": "stream",
     "text": [
      "[[1 2 3 4 5 6]]\n"
     ]
    }
   ],
   "source": [
    "x = np.array([[1, 2, 3]])\n",
    "y = np.array([[4, 5, 6]])\n",
    "\n",
    "print(np.append(x, y, axis=1))"
   ]
  },
  {
   "cell_type": "code",
   "execution_count": 32,
   "metadata": {},
   "outputs": [
    {
     "data": {
      "text/plain": [
       "array([[1, 2, 3, 4, 5, 6]])"
      ]
     },
     "execution_count": 32,
     "metadata": {},
     "output_type": "execute_result"
    }
   ],
   "source": [
    "np.concatenate((x,y),axis=1)"
   ]
  },
  {
   "cell_type": "markdown",
   "metadata": {
    "colab_type": "text",
    "id": "QaKEuybI3V9E"
   },
   "source": [
    "### 請參考 [100-numpy-exercises](https://github.com/rougier/numpy-100/blob/master/100_Numpy_exercises.ipynb) 做更多 numpy 的操作練習"
   ]
  }
 ],
 "metadata": {
  "kernelspec": {
   "display_name": "Python 3",
   "language": "python",
   "name": "python3"
  },
  "language_info": {
   "codemirror_mode": {
    "name": "ipython",
    "version": 3
   },
   "file_extension": ".py",
   "mimetype": "text/x-python",
   "name": "python",
   "nbconvert_exporter": "python",
   "pygments_lexer": "ipython3",
   "version": "3.7.7"
  }
 },
 "nbformat": 4,
 "nbformat_minor": 4
}
